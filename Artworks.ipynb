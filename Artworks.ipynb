{
 "cells": [
  {
   "cell_type": "code",
   "execution_count": null,
   "metadata": {},
   "outputs": [],
   "source": [
    "import numpy as np\n",
    "import os\n",
    "import torch\n",
    "import matplotlib.pyplot as plt\n",
    "from torch.utils.data import Dataset, DataLoader\n",
    "from torchvision import transforms, utils, models\n",
    "import torchvision\n",
    "from torch.optim import lr_scheduler\n",
    "import time\n",
    "import copy\n",
    "from PIL import Image"
   ]
  },
  {
   "cell_type": "code",
   "execution_count": null,
   "metadata": {},
   "outputs": [],
   "source": [
    "class WorksofArt():\n",
    "    def __init__(self, img_dir='data/resized', transform=None):\n",
    "        self.img_dir = img_dir\n",
    "        self.transform = transform\n",
    "        \n",
    "        self.img_names = os.listdir(img_dir)  # list all images in the folder\n",
    "        \n",
    "        self.img_names.sort()\n",
    "        \n",
    "        self.labels = []\n",
    "        for idx in range(len(self.img_names)):\n",
    "            self.labels.append(self.img_names[idx].rpartition('_')[0])\n",
    "        \n",
    "        self.img_names = [os.path.join(img_dir, img_name) for img_name in self.img_names]\n",
    "  \n",
    "        painter_set = set(self.labels) # set of unique painters names\n",
    "        self.num_painters = len(painter_set) # number of painters\n",
    "        \n",
    "        self.num_to_painter = {i: list(painter_set)[i] for i in range(self.num_painters)} # create a dictionary to map a number to a painter name\n",
    "        #self.num_to_painter2 = dict(enumerate(painter_set))\n",
    "        self.painter_to_num = dict(zip(self.num_to_painter.values(), self.num_to_painter.keys())) # create the reverse dictionary to map a painter name to a number\n",
    "        \n",
    "        for i in range(len(self.labels)):\n",
    "            self.labels[i] = self.painter_to_num[self.labels[i]] # Change all label painter names by the respective number\n",
    "            \n",
    "    def __len__(self):\n",
    "        return len(self.img_names)\n",
    "    \n",
    "    def __getitem__(self, idx):\n",
    "        img_name = self.img_names[idx]\n",
    "        img = Image.open(img_name)#.convert('RGB')\n",
    "        if(img.mode != 'RGB'):\n",
    "            img=img.convert('RGB')\n",
    "            \n",
    "        label = int(self.labels[idx])\n",
    "        \n",
    "        if self.transform:\n",
    "            img = self.transform(img)\n",
    "        return img, label\n",
    "               "
   ]
  },
  {
   "cell_type": "code",
   "execution_count": null,
   "metadata": {},
   "outputs": [],
   "source": [
    "# Load dataset\n",
    "transform = transforms.Compose([\n",
    "    transforms.Resize((200,200)),\n",
    "    transforms.ToTensor()])\n",
    "\n",
    "dataset = WorksofArt(img_dir='data/resized/', transform=transform)\n",
    "\n",
    "\n",
    "# split dataset\n",
    "train_size = int(0.8 * len(dataset))\n",
    "test_size = int(0.1 * len(dataset))\n",
    "val_size = len(dataset) - train_size - test_size\n",
    "\n",
    "train_data, val_data, test_data = torch.utils.data.random_split(dataset, [train_size, val_size, test_size]) "
   ]
  },
  {
   "cell_type": "code",
   "execution_count": null,
   "metadata": {},
   "outputs": [],
   "source": [
    "# checking data \n",
    "print(type(train_data))\n",
    "print(train_data[0][0].shape)"
   ]
  },
  {
   "cell_type": "code",
   "execution_count": null,
   "metadata": {},
   "outputs": [],
   "source": [
    "classes = dataset.num_to_painter\n",
    "print(classes)\n",
    "print(len(classes))"
   ]
  },
  {
   "cell_type": "code",
   "execution_count": null,
   "metadata": {},
   "outputs": [],
   "source": [
    "print(classes[0])"
   ]
  },
  {
   "cell_type": "code",
   "execution_count": null,
   "metadata": {},
   "outputs": [],
   "source": [
    "transf = transforms.ToPILImage() # create the transform that can be called to convert the tensor into a PIL Image\n",
    "\n",
    "num_samples = 4\n",
    "\n",
    "fig, axes = plt.subplots(1, num_samples, figsize=(20,10))\n",
    "\n",
    "for i in range(num_samples):\n",
    "    rand_idx = np.random.randint(0, train_size)\n",
    "    rand_img = train_data[rand_idx][0]\n",
    "    rand_img = transf(rand_img)    # call the transform on the tensor\n",
    "\n",
    "    axes[i].imshow(rand_img)\n",
    "    axes[i].set_title(\"Painter: \" + classes[train_data[rand_idx][1]].replace('_', ' '), fontsize=20)\n",
    "  \n",
    "plt.show()"
   ]
  },
  {
   "cell_type": "code",
   "execution_count": null,
   "metadata": {},
   "outputs": [],
   "source": [
    "# creating dataloaders\n",
    "batch_size = 64\n",
    "\n",
    "# create training data loader\n",
    "train_loader = torch.utils.data.DataLoader(dataset=train_data, batch_size=batch_size, shuffle=True)\n",
    "\n",
    "# create validation data loader\n",
    "val_loader = torch.utils.data.DataLoader(dataset=val_data, batch_size=batch_size, shuffle=True)\n",
    "\n",
    "# create test data loader\n",
    "test_loader = torch.utils.data.DataLoader(dataset=test_data, batch_size=batch_size, shuffle=True)"
   ]
  },
  {
   "cell_type": "code",
   "execution_count": null,
   "metadata": {},
   "outputs": [],
   "source": [
    "torch.cuda.empty_cache()\n",
    "use_cuda = torch.cuda.is_available()\n",
    "device = torch.device(\"cuda\" if use_cuda else \"cpu\")\n",
    "print(\"Using gpu: \", use_cuda)"
   ]
  },
  {
   "cell_type": "code",
   "execution_count": null,
   "metadata": {},
   "outputs": [],
   "source": [
    "def train(model, criterion, optimizer, scheduler, epochs=8):\n",
    "    start_time = time.time()\n",
    "\n",
    "    best_parameters = copy.deepcopy(model.state_dict())\n",
    "    best_val_acc = 0.0\n",
    "    best_epoch = 0\n",
    "    all_cost = []\n",
    "\n",
    "    for epoch in range(epochs):\n",
    "        \n",
    "        print('Epoch: {}'.format(epoch))\n",
    "        # Each epoch has a training and validation phase\n",
    "        for phase in ['train', 'val']:\n",
    "            if phase == 'train':\n",
    "                model.train()  # Set model to training mode\n",
    "                dataloader = train_loader\n",
    "                dataset_sizes = train_size\n",
    "            else:\n",
    "                model.eval()   # Set model to evaluate mode\n",
    "                dataloader = val_loader\n",
    "                dataset_sizes = val_size\n",
    "\n",
    "            running_loss = 0.0\n",
    "            running_corrects = 0\n",
    "\n",
    "            # Iterate over data.\n",
    "            for inputs, labels in dataloader:\n",
    "                inputs = inputs.to(device)\n",
    "                labels = labels.to(device)\n",
    "\n",
    "                optimizer.zero_grad() # reset gradients attribute to zero\n",
    "\n",
    "                # forward\n",
    "                # track history if only in train\n",
    "                with torch.set_grad_enabled(phase == 'train'):\n",
    "                    outputs = model(inputs)\n",
    "                    _, preds = torch.max(outputs, 1)\n",
    "                    loss = criterion(outputs, labels)\n",
    "                    all_cost.append(loss)\n",
    "\n",
    "                    # backward + optimize only if in training phase\n",
    "                    if phase == 'train':\n",
    "                        loss.backward()\n",
    "                        optimizer.step()\n",
    "\n",
    "                # statistics\n",
    "                running_loss += loss.item() * inputs.size(0)\n",
    "                running_corrects += torch.sum(preds == labels.data)\n",
    "            if phase == 'train':\n",
    "                scheduler.step()\n",
    "\n",
    "            epoch_loss = running_loss / dataset_sizes\n",
    "            epoch_acc = running_corrects.double() / dataset_sizes\n",
    "\n",
    "            print('[{}] -> Loss: {:.4f} Acc: {:.4f}'.format(\n",
    "                phase, epoch_loss, epoch_acc))\n",
    "\n",
    "            # deep copy the model\n",
    "            if phase == 'val' and epoch_acc > best_val_acc:\n",
    "                best_val_acc = epoch_acc\n",
    "                best_parameters = copy.deepcopy(model.state_dict())\n",
    "                best_epoch = epoch\n",
    "\n",
    "        print('-' * 20)\n",
    "\n",
    "    time_elapsed = time.time() - start_time\n",
    "    print()\n",
    "    print('Training completed in {:.0f}m {:.0f}s'.format(\n",
    "        time_elapsed // 60, time_elapsed % 60))\n",
    "    \n",
    "    print('Best val Acc: {:4f} , occured in epoch: {}'.format(\n",
    "        best_val_acc, best_epoch))\n",
    "\n",
    "    # load best model weights\n",
    "    model.load_state_dict(best_parameters)\n",
    "    plt.figure()\n",
    "    plt.ylabel('Cost')\n",
    "    plt.xlabel('Epoch')\n",
    "    plt.plot(all_cost)\n",
    "    \n",
    "    return model"
   ]
  },
  {
   "cell_type": "markdown",
   "metadata": {},
   "source": [
    "We're going to apply a pre-trained model of a ResNet-18 (described in https://arxiv.org/pdf/1512.03385.pdf)\n",
    "Taking advantage of the learned parameters and fine tunning the model. "
   ]
  },
  {
   "cell_type": "code",
   "execution_count": null,
   "metadata": {},
   "outputs": [],
   "source": [
    "learning_rate = 0.0001\n",
    "\n",
    "# load the model\n",
    "ResNet18 = models.resnet18(pretrained=True)\n",
    "\n",
    "# Change the full-connected layer to have the number of classes we're trying to predict\n",
    "num_ftrs = ResNet18.fc.in_features\n",
    "ResNet18.fc = torch.nn.Linear(num_ftrs, len(classes))\n",
    "\n",
    "ResNet18 = ResNet18.to(device)\n",
    "\n",
    "criterion = torch.nn.CrossEntropyLoss()\n",
    "optimizer = torch.optim.Adam(ResNet18.parameters(), lr=learning_rate, weight_decay=1)"
   ]
  },
  {
   "cell_type": "code",
   "execution_count": null,
   "metadata": {},
   "outputs": [],
   "source": [
    "# schedule the learning rate\n",
    "# step_size: at how many multiples of epoch you decay\n",
    "# step_size = 1, after every 1 epoch, new_lr = lr*gamma \n",
    "# step_size = 2, after every 2 epoch, new_lr = lr*gamma \n",
    "\n",
    "# gamma = decaying factor\n",
    "# Decay LR by a factor of 0.1 every 7 epochs\n",
    "lr_scheduler = lr_scheduler.StepLR(optimizer, step_size=7, gamma=0.1)"
   ]
  },
  {
   "cell_type": "code",
   "execution_count": null,
   "metadata": {},
   "outputs": [],
   "source": [
    "ResNet18 = train(ResNet18, criterion, optimizer, lr_scheduler, epochs=28)"
   ]
  }
 ],
 "metadata": {
  "kernelspec": {
   "display_name": "Python 3",
   "language": "python",
   "name": "python3"
  },
  "language_info": {
   "codemirror_mode": {
    "name": "ipython",
    "version": 3
   },
   "file_extension": ".py",
   "mimetype": "text/x-python",
   "name": "python",
   "nbconvert_exporter": "python",
   "pygments_lexer": "ipython3",
   "version": "3.7.4"
  }
 },
 "nbformat": 4,
 "nbformat_minor": 2
}
